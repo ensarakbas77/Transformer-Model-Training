{
  "nbformat": 4,
  "nbformat_minor": 0,
  "metadata": {
    "colab": {
      "provenance": [],
      "gpuType": "T4",
      "authorship_tag": "ABX9TyNDVTCQJKaNMKYEwBnCoEwU",
      "include_colab_link": true
    },
    "kernelspec": {
      "name": "python3",
      "display_name": "Python 3"
    },
    "language_info": {
      "name": "python"
    },
    "accelerator": "GPU"
  },
  "cells": [
    {
      "cell_type": "markdown",
      "metadata": {
        "id": "view-in-github",
        "colab_type": "text"
      },
      "source": [
        "<a href=\"https://colab.research.google.com/github/ensarakbas77/Transformer-Model-Training/blob/main/Test%26TrainingSets.ipynb\" target=\"_parent\"><img src=\"https://colab.research.google.com/assets/colab-badge.svg\" alt=\"Open In Colab\"/></a>"
      ]
    },
    {
      "cell_type": "code",
      "execution_count": null,
      "metadata": {
        "id": "e9gprOQ5g8Ua",
        "colab": {
          "base_uri": "https://localhost:8080/"
        },
        "outputId": "0ef0b42e-c48e-48f5-d579-dc6fed514f20"
      },
      "outputs": [
        {
          "output_type": "stream",
          "name": "stdout",
          "text": [
            "Mounted at /content/drive\n"
          ]
        }
      ],
      "source": [
        "from google.colab import drive\n",
        "drive.mount('/content/drive', force_remount=True)"
      ]
    },
    {
      "cell_type": "code",
      "source": [
        "!ls \"/content/drive/My Drive\""
      ],
      "metadata": {
        "colab": {
          "base_uri": "https://localhost:8080/"
        },
        "id": "_AL2JU0nhzUv",
        "outputId": "8fb99f38-ac8c-45f1-84dd-888e18c17fd9"
      },
      "execution_count": null,
      "outputs": [
        {
          "output_type": "stream",
          "name": "stdout",
          "text": [
            " DATASET\t\t\t  Split_VeriSeti\t     ViTModelTraining.ipynb\n",
            "'Gymster (Web Tasarım Projesi)'  'Test&TrainingSets.ipynb'\n",
            " split_DATASET\t\t\t  VeriSeti\n"
          ]
        }
      ]
    },
    {
      "cell_type": "code",
      "source": [
        "!ls \"/content/drive/My Drive/SPLIT_DATASET/train\""
      ],
      "metadata": {
        "colab": {
          "base_uri": "https://localhost:8080/"
        },
        "id": "Fyh46UnJ3db2",
        "outputId": "d670a901-b783-4b44-de06-96ac72b1a022"
      },
      "execution_count": null,
      "outputs": [
        {
          "output_type": "stream",
          "name": "stdout",
          "text": [
            " KIFOZ\t'PEKTUS EKSKAVATUM'  'PEKTUS KARINATUM'  'POLAND SENDROMU'   SKOLYOZ\n"
          ]
        }
      ]
    },
    {
      "cell_type": "code",
      "source": [
        "import os\n",
        "import shutil\n",
        "from sklearn.model_selection import train_test_split"
      ],
      "metadata": {
        "id": "xe9fbPoSp2Z5"
      },
      "execution_count": null,
      "outputs": []
    },
    {
      "cell_type": "code",
      "source": [
        "# Veri kümelerini ayırmak için klasörleri ve yolları tanımlayın\n",
        "input_dir = '/content/drive/My Drive/Split_DATASET/train'\n",
        "output_dir = '/content/drive/My Drive/SPLIT_DATASET'\n",
        "\n",
        "test_size = 0.2  # %20 test, %80 eğitim\n",
        "\n",
        "for class_name in os.listdir(input_dir):\n",
        "    class_path = os.path.join(input_dir, class_name)\n",
        "\n",
        "    if os.path.isdir(class_path):\n",
        "        images = os.listdir(class_path)\n",
        "\n",
        "        if len(images) == 0:\n",
        "            print(f\"{class_name} klasörü boş, işlem atlanıyor.\")\n",
        "            continue\n",
        "\n",
        "        train_images, test_images = train_test_split(images, test_size=test_size, random_state=42)\n",
        "\n",
        "        train_dir = os.path.join(output_dir, 'train', class_name)\n",
        "        os.makedirs(train_dir, exist_ok=True)\n",
        "\n",
        "        test_dir = os.path.join(output_dir, 'test', class_name)\n",
        "        os.makedirs(test_dir, exist_ok=True)\n",
        "\n",
        "        for img in train_images:\n",
        "            try:\n",
        "                shutil.copy(os.path.join(class_path, img), os.path.join(train_dir, img))\n",
        "            except Exception as e:\n",
        "                print(f\"{img} dosyası kopyalanırken hata oluştu: {e}\")\n",
        "\n",
        "        for img in test_images:\n",
        "            try:\n",
        "                shutil.copy(os.path.join(class_path, img), os.path.join(test_dir, img))\n",
        "            except Exception as e:\n",
        "                print(f\"{img} dosyası kopyalanırken hata oluştu: {e}\")\n",
        "\n",
        "print(\"Eğitim ve test kümeleri başarıyla ayrıldı!\")\n"
      ],
      "metadata": {
        "colab": {
          "base_uri": "https://localhost:8080/"
        },
        "id": "ko6gH6oWvjDq",
        "outputId": "0473f348-171d-4e7a-ff43-2c537623cc4f"
      },
      "execution_count": null,
      "outputs": [
        {
          "output_type": "stream",
          "name": "stdout",
          "text": [
            "Eğitim ve test kümeleri başarıyla ayrıldı!\n"
          ]
        }
      ]
    },
    {
      "cell_type": "code",
      "source": [
        "categories = ['KIFOZ', 'PEKTUS EKSKAVATUM', 'PEKTUS KARINATUM', 'POLAND SENDROMU', 'SKOLYOZ']\n",
        "base_path = \"/content/drive/My Drive/SPLIT_DATASET/\"\n",
        "\n",
        "total_train_count = 0\n",
        "total_test_count = 0\n",
        "\n",
        "for category in categories:\n",
        "    train_path = os.path.join(base_path, 'train', category)\n",
        "    test_path = os.path.join(base_path, 'test', category)\n",
        "\n",
        "    train_count = len([f for f in os.listdir(train_path) if f.endswith(('jpg', 'jpeg', 'png'))]) if os.path.exists(train_path) else 0\n",
        "    test_count = len([f for f in os.listdir(test_path) if f.endswith(('jpg', 'jpeg', 'png'))]) if os.path.exists(test_path) else 0\n",
        "\n",
        "    total_train_count += train_count\n",
        "    total_test_count += test_count\n",
        "\n",
        "    print(f\"{category}: Eğitim seti: {train_count} görüntü, Test seti: {test_count} görüntü\")\n",
        "\n",
        "print(f\"\\nToplam Eğitim görüntü sayısı: {total_train_count}\")\n",
        "print(f\"Toplam Test görüntü sayısı: {total_test_count}\")\n",
        "print(f\"Toplam Görüntü Sayısı: {total_train_count + total_test_count}\")\n"
      ],
      "metadata": {
        "colab": {
          "base_uri": "https://localhost:8080/"
        },
        "id": "iXkKLgeX9jXb",
        "outputId": "e9e29dc5-a233-4445-d7e4-73fd280b6976"
      },
      "execution_count": null,
      "outputs": [
        {
          "output_type": "stream",
          "name": "stdout",
          "text": [
            "KIFOZ: Eğitim seti: 2064 görüntü, Test seti: 516 görüntü\n",
            "PEKTUS EKSKAVATUM: Eğitim seti: 2100 görüntü, Test seti: 526 görüntü\n",
            "PEKTUS KARINATUM: Eğitim seti: 2164 görüntü, Test seti: 541 görüntü\n",
            "POLAND SENDROMU: Eğitim seti: 2078 görüntü, Test seti: 520 görüntü\n",
            "SKOLYOZ: Eğitim seti: 2115 görüntü, Test seti: 529 görüntü\n",
            "\n",
            "Toplam Eğitim görüntü sayısı: 10521\n",
            "Toplam Test görüntü sayısı: 2632\n",
            "Toplam Görüntü Sayısı: 13153\n"
          ]
        }
      ]
    },
    {
      "cell_type": "code",
      "source": [
        "categories = ['kifoz', 'pektus ekskavatum', 'pektus karinatum', 'poland sendromu', 'skolyoz']\n",
        "base_path = \"/content/drive/My Drive/Split_VeriSeti/\"\n",
        "\n",
        "total_train_count = 0\n",
        "total_test_count = 0\n",
        "\n",
        "for category in categories:\n",
        "    train_path = os.path.join(base_path, 'train', category)\n",
        "    test_path = os.path.join(base_path, 'test', category)\n",
        "\n",
        "    train_count = len([f for f in os.listdir(train_path) if f.endswith(('jpg', 'jpeg', 'png'))]) if os.path.exists(train_path) else 0\n",
        "    test_count = len([f for f in os.listdir(test_path) if f.endswith(('jpg', 'jpeg', 'png'))]) if os.path.exists(test_path) else 0\n",
        "\n",
        "    total_train_count += train_count\n",
        "    total_test_count += test_count\n",
        "\n",
        "    print(f\"{category}: Eğitim seti: {train_count} görüntü, Test seti: {test_count} görüntü\")\n",
        "\n",
        "print(f\"\\nToplam Eğitim görüntü sayısı: {total_train_count}\")\n",
        "print(f\"Toplam Test görüntü sayısı: {total_test_count}\")\n",
        "print(f\"Toplam Görüntü Sayısı: {total_train_count + total_test_count}\")\n"
      ],
      "metadata": {
        "colab": {
          "base_uri": "https://localhost:8080/"
        },
        "id": "A178ZbL9261i",
        "outputId": "25b4cdcf-853d-4109-ca53-8adcd920dc50"
      },
      "execution_count": null,
      "outputs": [
        {
          "output_type": "stream",
          "name": "stdout",
          "text": [
            "kifoz: Eğitim seti: 424 görüntü, Test seti: 106 görüntü\n",
            "pektus ekskavatum: Eğitim seti: 424 görüntü, Test seti: 106 görüntü\n",
            "pektus karinatum: Eğitim seti: 424 görüntü, Test seti: 106 görüntü\n",
            "poland sendromu: Eğitim seti: 424 görüntü, Test seti: 106 görüntü\n",
            "skolyoz: Eğitim seti: 416 görüntü, Test seti: 104 görüntü\n",
            "\n",
            "Toplam Eğitim görüntü sayısı: 2112\n",
            "Toplam Test görüntü sayısı: 528\n",
            "Toplam Görüntü Sayısı: 2640\n"
          ]
        }
      ]
    }
  ]
}